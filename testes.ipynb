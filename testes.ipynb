{
 "cells": [
  {
   "cell_type": "code",
   "execution_count": 5,
   "metadata": {},
   "outputs": [
    {
     "name": "stdout",
     "output_type": "stream",
     "text": [
      "BASE_DIR = c:\\Users\\usuario\\Desktop\\Vscode\\Performance\n",
      "excel_path = c:\\Users\\usuario\\Desktop\\Vscode\\Performance\\base.xlsx\n",
      "Existe o arquivo? True\n"
     ]
    }
   ],
   "source": [
    "print(\"BASE_DIR =\", BASE_DIR)\n",
    "print(\"excel_path =\", excel_path)\n",
    "print(\"Existe o arquivo?\", os.path.isfile(excel_path))\n",
    "\n"
   ]
  },
  {
   "cell_type": "code",
   "execution_count": null,
   "metadata": {},
   "outputs": [],
   "source": []
  }
 ],
 "metadata": {
  "kernelspec": {
   "display_name": ".venv",
   "language": "python",
   "name": "python3"
  },
  "language_info": {
   "codemirror_mode": {
    "name": "ipython",
    "version": 3
   },
   "file_extension": ".py",
   "mimetype": "text/x-python",
   "name": "python",
   "nbconvert_exporter": "python",
   "pygments_lexer": "ipython3",
   "version": "3.12.4"
  }
 },
 "nbformat": 4,
 "nbformat_minor": 2
}
